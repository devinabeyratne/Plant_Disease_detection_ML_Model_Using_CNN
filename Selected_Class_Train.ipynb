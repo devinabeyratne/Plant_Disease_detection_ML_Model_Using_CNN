{
 "cells": [
  {
   "cell_type": "markdown",
   "id": "9e0c9c65-4053-4115-8086-e7a919ccc838",
   "metadata": {},
   "source": [
    "Imorting Libraries"
   ]
  },
  {
   "cell_type": "code",
   "execution_count": 1,
   "id": "f1693b17-ae46-4eaa-af95-3b322c8c0d1f",
   "metadata": {},
   "outputs": [],
   "source": [
    "import tensorflow as tf\n",
    "import matplotlib.pyplot as plt\n",
    "import pandas as pd\n",
    "import seaborn as sns\n",
    "import keras_tuner as kt"
   ]
  },
  {
   "cell_type": "code",
   "execution_count": 22,
   "id": "ec151355-42c7-43c4-8b72-3c715a074e46",
   "metadata": {},
   "outputs": [
    {
     "name": "stdout",
     "output_type": "stream",
     "text": [
      "2.16.2\n"
     ]
    }
   ],
   "source": [
    "import tensorflow as tf\n",
    "print(tf.__version__)"
   ]
  },
  {
   "cell_type": "code",
   "execution_count": 23,
   "id": "8273ba4f-1e44-4a93-8b14-9f9371f1220d",
   "metadata": {},
   "outputs": [
    {
     "name": "stdout",
     "output_type": "stream",
     "text": [
      "Collecting keras-tuner==1.4.7\n",
      "  Using cached keras_tuner-1.4.7-py3-none-any.whl.metadata (5.4 kB)\n",
      "Requirement already satisfied: keras in /Users/mihindew/tf_env/lib/python3.10/site-packages (from keras-tuner==1.4.7) (3.4.1)\n",
      "Requirement already satisfied: packaging in /Users/mihindew/tf_env/lib/python3.10/site-packages (from keras-tuner==1.4.7) (24.1)\n",
      "Requirement already satisfied: requests in /Users/mihindew/tf_env/lib/python3.10/site-packages (from keras-tuner==1.4.7) (2.32.3)\n",
      "Collecting kt-legacy (from keras-tuner==1.4.7)\n",
      "  Using cached kt_legacy-1.0.5-py3-none-any.whl.metadata (221 bytes)\n",
      "Requirement already satisfied: absl-py in /Users/mihindew/tf_env/lib/python3.10/site-packages (from keras->keras-tuner==1.4.7) (2.1.0)\n",
      "Requirement already satisfied: numpy in /Users/mihindew/tf_env/lib/python3.10/site-packages (from keras->keras-tuner==1.4.7) (1.26.4)\n",
      "Requirement already satisfied: rich in /Users/mihindew/tf_env/lib/python3.10/site-packages (from keras->keras-tuner==1.4.7) (13.7.1)\n",
      "Requirement already satisfied: namex in /Users/mihindew/tf_env/lib/python3.10/site-packages (from keras->keras-tuner==1.4.7) (0.0.8)\n",
      "Requirement already satisfied: h5py in /Users/mihindew/tf_env/lib/python3.10/site-packages (from keras->keras-tuner==1.4.7) (3.11.0)\n",
      "Requirement already satisfied: optree in /Users/mihindew/tf_env/lib/python3.10/site-packages (from keras->keras-tuner==1.4.7) (0.12.1)\n",
      "Requirement already satisfied: ml-dtypes in /Users/mihindew/tf_env/lib/python3.10/site-packages (from keras->keras-tuner==1.4.7) (0.3.2)\n",
      "Requirement already satisfied: charset-normalizer<4,>=2 in /Users/mihindew/tf_env/lib/python3.10/site-packages (from requests->keras-tuner==1.4.7) (3.3.2)\n",
      "Requirement already satisfied: idna<4,>=2.5 in /Users/mihindew/tf_env/lib/python3.10/site-packages (from requests->keras-tuner==1.4.7) (3.7)\n",
      "Requirement already satisfied: urllib3<3,>=1.21.1 in /Users/mihindew/tf_env/lib/python3.10/site-packages (from requests->keras-tuner==1.4.7) (2.2.2)\n",
      "Requirement already satisfied: certifi>=2017.4.17 in /Users/mihindew/tf_env/lib/python3.10/site-packages (from requests->keras-tuner==1.4.7) (2024.7.4)\n",
      "Requirement already satisfied: typing-extensions>=4.5.0 in /Users/mihindew/tf_env/lib/python3.10/site-packages (from optree->keras->keras-tuner==1.4.7) (4.12.2)\n",
      "Requirement already satisfied: markdown-it-py>=2.2.0 in /Users/mihindew/tf_env/lib/python3.10/site-packages (from rich->keras->keras-tuner==1.4.7) (3.0.0)\n",
      "Requirement already satisfied: pygments<3.0.0,>=2.13.0 in /Users/mihindew/tf_env/lib/python3.10/site-packages (from rich->keras->keras-tuner==1.4.7) (2.18.0)\n",
      "Requirement already satisfied: mdurl~=0.1 in /Users/mihindew/tf_env/lib/python3.10/site-packages (from markdown-it-py>=2.2.0->rich->keras->keras-tuner==1.4.7) (0.1.2)\n",
      "Using cached keras_tuner-1.4.7-py3-none-any.whl (129 kB)\n",
      "Using cached kt_legacy-1.0.5-py3-none-any.whl (9.6 kB)\n",
      "Installing collected packages: kt-legacy, keras-tuner\n",
      "Successfully installed keras-tuner-1.4.7 kt-legacy-1.0.5\n",
      "\n",
      "\u001b[1m[\u001b[0m\u001b[34;49mnotice\u001b[0m\u001b[1;39;49m]\u001b[0m\u001b[39;49m A new release of pip is available: \u001b[0m\u001b[31;49m24.1.1\u001b[0m\u001b[39;49m -> \u001b[0m\u001b[32;49m24.2\u001b[0m\n",
      "\u001b[1m[\u001b[0m\u001b[34;49mnotice\u001b[0m\u001b[1;39;49m]\u001b[0m\u001b[39;49m To update, run: \u001b[0m\u001b[32;49m/Users/mihindew/tf_env/bin/python -m pip install --upgrade pip\u001b[0m\n",
      "Note: you may need to restart the kernel to use updated packages.\n"
     ]
    }
   ],
   "source": [
    "pip install keras-tuner==1.4.7"
   ]
  },
  {
   "cell_type": "code",
   "execution_count": 24,
   "id": "9eab922d-19a1-43c2-8bf3-e7f23d75026c",
   "metadata": {},
   "outputs": [],
   "source": [
    "import keras_tuner as kt\n"
   ]
  },
  {
   "cell_type": "code",
   "execution_count": null,
   "id": "3d3777db-aa5d-4850-a903-39f01d46eda0",
   "metadata": {},
   "outputs": [],
   "source": [
    "Data PreProcessing\n",
    "\n",
    "Training Image Prepocessing"
   ]
  },
  {
   "cell_type": "code",
   "execution_count": 42,
   "id": "9f19e962-c08b-456c-b092-1edf807d2f58",
   "metadata": {},
   "outputs": [
    {
     "name": "stdout",
     "output_type": "stream",
     "text": [
      "Found 16634 files belonging to 9 classes.\n"
     ]
    }
   ],
   "source": [
    "training_set = tf.keras.utils.image_dataset_from_directory(\n",
    "    'strain',\n",
    "    labels=\"inferred\",\n",
    "    label_mode=\"categorical\",\n",
    "    class_names=None,\n",
    "    color_mode=\"rgb\",\n",
    "    batch_size=32,\n",
    "    image_size=(128, 128),\n",
    "    shuffle=True,\n",
    "    seed=None,\n",
    "    validation_split=None,\n",
    "    subset=None,\n",
    "    interpolation=\"bilinear\",\n",
    "    follow_links=False,\n",
    "    crop_to_aspect_ratio=False,\n",
    "    pad_to_aspect_ratio=False,\n",
    "    verbose=True,\n",
    ")"
   ]
  },
  {
   "cell_type": "code",
   "execution_count": 5,
   "id": "4546ad75-358b-44d4-b362-3164937dbf35",
   "metadata": {},
   "outputs": [
    {
     "data": {
      "text/plain": [
       "<_PrefetchDataset element_spec=(TensorSpec(shape=(None, 128, 128, 3), dtype=tf.float32, name=None), TensorSpec(shape=(None, 9), dtype=tf.float32, name=None))>"
      ]
     },
     "execution_count": 5,
     "metadata": {},
     "output_type": "execute_result"
    }
   ],
   "source": [
    "training_set"
   ]
  },
  {
   "cell_type": "code",
   "execution_count": 4,
   "id": "64959885-3084-456c-8675-8b64665b59ab",
   "metadata": {},
   "outputs": [
    {
     "name": "stdout",
     "output_type": "stream",
     "text": [
      "\u001b[31mERROR: Could not find a version that satisfies the requirement matplotlib.pyplot (from versions: none)\u001b[0m\u001b[31m\n",
      "\u001b[0m\u001b[31mERROR: No matching distribution found for matplotlib.pyplot\u001b[0m\u001b[31m\n",
      "\u001b[0m"
     ]
    }
   ],
   "source": [
    "!pip install matplotlib.pyplot"
   ]
  },
  {
   "cell_type": "markdown",
   "id": "73f64558-35cb-4776-9628-fa12ad054ce6",
   "metadata": {},
   "source": [
    "Validation image preprocessing"
   ]
  },
  {
   "cell_type": "code",
   "execution_count": 6,
   "id": "0cf6f0ed-f0ea-4b5e-8383-962983b8219e",
   "metadata": {},
   "outputs": [
    {
     "name": "stdout",
     "output_type": "stream",
     "text": [
      "Found 4158 files belonging to 9 classes.\n"
     ]
    }
   ],
   "source": [
    "validation_set = tf.keras.utils.image_dataset_from_directory(\n",
    "    'svalid',\n",
    "    labels=\"inferred\",\n",
    "    label_mode=\"categorical\",\n",
    "    class_names=None,\n",
    "    color_mode=\"rgb\",\n",
    "    batch_size=32,\n",
    "    image_size=(128, 128),\n",
    "    shuffle=True,\n",
    "    seed=None,\n",
    "    validation_split=None,\n",
    "    subset=None,\n",
    "    interpolation=\"bilinear\",\n",
    "    follow_links=False,\n",
    "    crop_to_aspect_ratio=False,\n",
    "    pad_to_aspect_ratio=False,\n",
    "    verbose=True,\n",
    ")"
   ]
  },
  {
   "cell_type": "code",
   "execution_count": 7,
   "id": "2936ec73-786e-4dcf-8cdf-2d1759c0bcfe",
   "metadata": {},
   "outputs": [
    {
     "data": {
      "text/plain": [
       "<_PrefetchDataset element_spec=(TensorSpec(shape=(None, 128, 128, 3), dtype=tf.float32, name=None), TensorSpec(shape=(None, 9), dtype=tf.float32, name=None))>"
      ]
     },
     "execution_count": 7,
     "metadata": {},
     "output_type": "execute_result"
    }
   ],
   "source": [
    "validation_set"
   ]
  },
  {
   "cell_type": "code",
   "execution_count": 8,
   "id": "d34b3fa4-3436-40fd-87fb-c12f38b23bb7",
   "metadata": {},
   "outputs": [
    {
     "name": "stdout",
     "output_type": "stream",
     "text": [
      "tf.Tensor(\n",
      "[[[[151.5  151.5  153.5 ]\n",
      "   [155.   155.   157.  ]\n",
      "   [149.75 149.75 151.75]\n",
      "   ...\n",
      "   [116.   116.   116.  ]\n",
      "   [124.25 124.25 124.25]\n",
      "   [125.5  125.5  125.5 ]]\n",
      "\n",
      "  [[149.   149.   151.  ]\n",
      "   [156.5  156.5  158.5 ]\n",
      "   [149.75 149.75 151.75]\n",
      "   ...\n",
      "   [116.5  116.5  116.5 ]\n",
      "   [116.5  116.5  116.5 ]\n",
      "   [119.75 119.75 119.75]]\n",
      "\n",
      "  [[153.25 153.25 155.25]\n",
      "   [145.5  145.5  147.5 ]\n",
      "   [151.75 151.75 153.75]\n",
      "   ...\n",
      "   [113.5  113.5  113.5 ]\n",
      "   [117.   117.   117.  ]\n",
      "   [108.75 108.75 108.75]]\n",
      "\n",
      "  ...\n",
      "\n",
      "  [[126.   124.   129.  ]\n",
      "   [125.5  123.5  128.5 ]\n",
      "   [127.   125.   130.  ]\n",
      "   ...\n",
      "   [130.5  130.5  130.5 ]\n",
      "   [141.   141.   141.  ]\n",
      "   [134.75 134.75 134.75]]\n",
      "\n",
      "  [[130.25 128.25 133.25]\n",
      "   [127.   125.   130.  ]\n",
      "   [127.75 125.75 130.75]\n",
      "   ...\n",
      "   [133.75 133.75 133.75]\n",
      "   [131.25 131.25 131.25]\n",
      "   [126.25 126.25 126.25]]\n",
      "\n",
      "  [[124.25 122.25 127.25]\n",
      "   [123.5  121.5  126.5 ]\n",
      "   [130.75 128.75 133.75]\n",
      "   ...\n",
      "   [134.5  134.5  134.5 ]\n",
      "   [141.   141.   141.  ]\n",
      "   [128.5  128.5  128.5 ]]]\n",
      "\n",
      "\n",
      " [[[255.   255.   255.  ]\n",
      "   [255.   255.   255.  ]\n",
      "   [255.   255.   255.  ]\n",
      "   ...\n",
      "   [255.   255.   255.  ]\n",
      "   [255.   255.   255.  ]\n",
      "   [255.   255.   255.  ]]\n",
      "\n",
      "  [[255.   255.   255.  ]\n",
      "   [255.   255.   255.  ]\n",
      "   [255.   255.   255.  ]\n",
      "   ...\n",
      "   [255.   255.   255.  ]\n",
      "   [255.   255.   255.  ]\n",
      "   [255.   255.   255.  ]]\n",
      "\n",
      "  [[255.   255.   255.  ]\n",
      "   [255.   255.   255.  ]\n",
      "   [255.   255.   255.  ]\n",
      "   ...\n",
      "   [255.   255.   255.  ]\n",
      "   [255.   255.   255.  ]\n",
      "   [255.   255.   255.  ]]\n",
      "\n",
      "  ...\n",
      "\n",
      "  [[255.   255.   255.  ]\n",
      "   [255.   255.   255.  ]\n",
      "   [255.   255.   255.  ]\n",
      "   ...\n",
      "   [255.   255.   255.  ]\n",
      "   [255.   255.   255.  ]\n",
      "   [255.   255.   255.  ]]\n",
      "\n",
      "  [[255.   255.   255.  ]\n",
      "   [255.   255.   255.  ]\n",
      "   [255.   255.   255.  ]\n",
      "   ...\n",
      "   [255.   255.   255.  ]\n",
      "   [255.   255.   255.  ]\n",
      "   [255.   255.   255.  ]]\n",
      "\n",
      "  [[255.   255.   255.  ]\n",
      "   [255.   255.   255.  ]\n",
      "   [255.   255.   255.  ]\n",
      "   ...\n",
      "   [255.   255.   255.  ]\n",
      "   [255.   255.   255.  ]\n",
      "   [255.   255.   255.  ]]]\n",
      "\n",
      "\n",
      " [[[ 96.75  92.75 119.75]\n",
      "   [ 94.5   90.5  117.5 ]\n",
      "   [104.75 100.75 127.75]\n",
      "   ...\n",
      "   [173.75 175.75 196.75]\n",
      "   [167.75 169.75 190.75]\n",
      "   [158.25 160.25 181.25]]\n",
      "\n",
      "  [[ 95.5   91.5  118.5 ]\n",
      "   [ 98.    94.   121.  ]\n",
      "   [107.25 103.25 130.25]\n",
      "   ...\n",
      "   [172.75 174.75 195.75]\n",
      "   [172.75 174.75 195.75]\n",
      "   [155.5  157.5  178.5 ]]\n",
      "\n",
      "  [[102.75  98.75 125.75]\n",
      "   [ 93.    89.   116.  ]\n",
      "   [100.25  96.25 123.25]\n",
      "   ...\n",
      "   [177.   179.   200.  ]\n",
      "   [170.5  172.5  193.5 ]\n",
      "   [168.5  170.5  191.5 ]]\n",
      "\n",
      "  ...\n",
      "\n",
      "  [[ 89.75  84.75 106.75]\n",
      "   [ 76.25  71.25  94.25]\n",
      "   [ 86.    81.   104.  ]\n",
      "   ...\n",
      "   [107.5  110.5  141.5 ]\n",
      "   [103.5  106.5  139.5 ]\n",
      "   [106.5  109.5  142.5 ]]\n",
      "\n",
      "  [[ 80.25  75.25  97.25]\n",
      "   [ 79.25  74.25  97.25]\n",
      "   [ 90.    85.   108.  ]\n",
      "   ...\n",
      "   [111.25 114.25 145.25]\n",
      "   [104.5  107.5  140.5 ]\n",
      "   [100.75 103.75 136.75]]\n",
      "\n",
      "  [[ 78.5   73.5   95.5 ]\n",
      "   [ 96.75  91.75 114.75]\n",
      "   [ 85.25  80.25 103.25]\n",
      "   ...\n",
      "   [103.5  106.5  137.5 ]\n",
      "   [109.25 112.25 145.25]\n",
      "   [100.   103.   136.  ]]]\n",
      "\n",
      "\n",
      " ...\n",
      "\n",
      "\n",
      " [[[138.75 118.75 120.75]\n",
      "   [138.   118.   120.  ]\n",
      "   [138.75 118.75 120.75]\n",
      "   ...\n",
      "   [142.   123.   129.  ]\n",
      "   [132.   113.   119.  ]\n",
      "   [131.25 112.25 118.25]]\n",
      "\n",
      "  [[136.75 116.75 118.75]\n",
      "   [136.75 116.75 118.75]\n",
      "   [135.25 115.25 117.25]\n",
      "   ...\n",
      "   [140.   121.   127.  ]\n",
      "   [135.5  116.5  122.5 ]\n",
      "   [139.25 120.25 126.25]]\n",
      "\n",
      "  [[135.75 115.75 117.75]\n",
      "   [142.75 122.75 124.75]\n",
      "   [139.   119.   121.  ]\n",
      "   ...\n",
      "   [135.25 116.25 122.25]\n",
      "   [130.75 111.75 117.75]\n",
      "   [141.75 122.75 128.75]]\n",
      "\n",
      "  ...\n",
      "\n",
      "  [[131.75 111.75 113.75]\n",
      "   [130.75 110.75 112.75]\n",
      "   [133.   113.   115.  ]\n",
      "   ...\n",
      "   [121.5  102.5  108.5 ]\n",
      "   [123.75 104.75 110.75]\n",
      "   [129.25 110.25 116.25]]\n",
      "\n",
      "  [[133.75 113.75 115.75]\n",
      "   [130.   110.   112.  ]\n",
      "   [132.   112.   114.  ]\n",
      "   ...\n",
      "   [121.   102.   108.  ]\n",
      "   [126.25 107.25 113.25]\n",
      "   [130.   111.   117.  ]]\n",
      "\n",
      "  [[136.25 116.25 118.25]\n",
      "   [132.   112.   114.  ]\n",
      "   [134.75 114.75 116.75]\n",
      "   ...\n",
      "   [121.25 102.25 108.25]\n",
      "   [128.75 109.75 115.75]\n",
      "   [127.75 108.75 114.75]]]\n",
      "\n",
      "\n",
      " [[[148.25 143.25 150.25]\n",
      "   [148.25 143.25 150.25]\n",
      "   [149.25 144.25 151.25]\n",
      "   ...\n",
      "   [181.5  180.5  188.5 ]\n",
      "   [179.75 178.75 186.75]\n",
      "   [183.75 182.75 190.75]]\n",
      "\n",
      "  [[149.75 144.75 151.75]\n",
      "   [160.   155.   162.  ]\n",
      "   [154.75 149.75 156.75]\n",
      "   ...\n",
      "   [183.   182.   190.  ]\n",
      "   [182.75 181.75 189.75]\n",
      "   [184.75 183.75 191.75]]\n",
      "\n",
      "  [[153.   148.   155.  ]\n",
      "   [157.25 152.25 159.25]\n",
      "   [160.   155.   162.  ]\n",
      "   ...\n",
      "   [182.75 181.75 189.75]\n",
      "   [184.75 183.75 191.75]\n",
      "   [184.   183.   191.  ]]\n",
      "\n",
      "  ...\n",
      "\n",
      "  [[102.5  100.5  114.5 ]\n",
      "   [108.25 106.25 120.25]\n",
      "   [109.75 107.75 121.75]\n",
      "   ...\n",
      "   [150.5  153.5  170.5 ]\n",
      "   [149.75 152.75 169.75]\n",
      "   [146.25 149.25 166.25]]\n",
      "\n",
      "  [[118.   116.   130.  ]\n",
      "   [124.25 122.25 136.25]\n",
      "   [127.   125.   139.  ]\n",
      "   ...\n",
      "   [155.   158.   175.  ]\n",
      "   [160.5  163.5  180.5 ]\n",
      "   [159.5  162.5  179.5 ]]\n",
      "\n",
      "  [[107.5  105.5  119.5 ]\n",
      "   [129.25 127.25 141.25]\n",
      "   [138.5  136.5  150.5 ]\n",
      "   ...\n",
      "   [148.5  151.5  168.5 ]\n",
      "   [148.   151.   168.  ]\n",
      "   [145.   148.   165.  ]]]\n",
      "\n",
      "\n",
      " [[[157.25 150.25 158.25]\n",
      "   [143.   136.   144.  ]\n",
      "   [142.75 135.75 143.75]\n",
      "   ...\n",
      "   [186.5  181.5  188.5 ]\n",
      "   [194.25 189.25 196.25]\n",
      "   [191.5  186.5  193.5 ]]\n",
      "\n",
      "  [[148.75 141.75 149.75]\n",
      "   [148.75 141.75 149.75]\n",
      "   [148.75 141.75 149.75]\n",
      "   ...\n",
      "   [190.   185.   192.  ]\n",
      "   [179.25 174.25 181.25]\n",
      "   [177.25 172.25 179.25]]\n",
      "\n",
      "  [[151.5  144.5  152.5 ]\n",
      "   [153.   146.   154.  ]\n",
      "   [161.25 154.25 162.25]\n",
      "   ...\n",
      "   [172.5  167.5  174.5 ]\n",
      "   [181.5  176.5  183.5 ]\n",
      "   [182.25 177.25 184.25]]\n",
      "\n",
      "  ...\n",
      "\n",
      "  [[168.   160.   171.  ]\n",
      "   [168.   160.   171.  ]\n",
      "   [180.25 172.25 183.25]\n",
      "   ...\n",
      "   [183.5  177.5  187.5 ]\n",
      "   [179.   173.   183.  ]\n",
      "   [180.25 174.25 184.25]]\n",
      "\n",
      "  [[168.25 160.25 171.25]\n",
      "   [170.75 162.75 173.75]\n",
      "   [168.25 160.25 171.25]\n",
      "   ...\n",
      "   [189.75 183.75 193.75]\n",
      "   [185.   179.   189.  ]\n",
      "   [183.75 177.75 187.75]]\n",
      "\n",
      "  [[168.   160.   171.  ]\n",
      "   [177.5  169.5  180.5 ]\n",
      "   [173.   165.   176.  ]\n",
      "   ...\n",
      "   [176.5  170.5  180.5 ]\n",
      "   [186.5  180.5  190.5 ]\n",
      "   [174.   168.   178.  ]]]], shape=(32, 128, 128, 3), dtype=float32) (32, 128, 128, 3)\n",
      "tf.Tensor(\n",
      "[[0. 0. 0. 0. 0. 1. 0. 0. 0.]\n",
      " [0. 0. 1. 0. 0. 0. 0. 0. 0.]\n",
      " [0. 0. 0. 0. 0. 0. 1. 0. 0.]\n",
      " [0. 1. 0. 0. 0. 0. 0. 0. 0.]\n",
      " [0. 0. 0. 0. 0. 0. 0. 1. 0.]\n",
      " [0. 0. 0. 0. 0. 0. 0. 0. 1.]\n",
      " [0. 0. 0. 0. 0. 0. 0. 0. 1.]\n",
      " [0. 0. 0. 0. 0. 1. 0. 0. 0.]\n",
      " [0. 0. 0. 0. 1. 0. 0. 0. 0.]\n",
      " [0. 0. 0. 0. 1. 0. 0. 0. 0.]\n",
      " [0. 0. 0. 1. 0. 0. 0. 0. 0.]\n",
      " [0. 0. 0. 0. 0. 1. 0. 0. 0.]\n",
      " [0. 0. 0. 0. 0. 1. 0. 0. 0.]\n",
      " [0. 0. 1. 0. 0. 0. 0. 0. 0.]\n",
      " [0. 0. 1. 0. 0. 0. 0. 0. 0.]\n",
      " [0. 0. 0. 0. 0. 1. 0. 0. 0.]\n",
      " [1. 0. 0. 0. 0. 0. 0. 0. 0.]\n",
      " [0. 0. 0. 0. 0. 0. 0. 0. 1.]\n",
      " [1. 0. 0. 0. 0. 0. 0. 0. 0.]\n",
      " [0. 1. 0. 0. 0. 0. 0. 0. 0.]\n",
      " [0. 1. 0. 0. 0. 0. 0. 0. 0.]\n",
      " [0. 0. 0. 0. 0. 0. 0. 1. 0.]\n",
      " [0. 0. 0. 0. 0. 0. 0. 0. 1.]\n",
      " [0. 0. 1. 0. 0. 0. 0. 0. 0.]\n",
      " [0. 0. 0. 0. 0. 0. 1. 0. 0.]\n",
      " [0. 0. 1. 0. 0. 0. 0. 0. 0.]\n",
      " [0. 0. 0. 0. 0. 0. 1. 0. 0.]\n",
      " [0. 0. 0. 0. 0. 0. 0. 0. 1.]\n",
      " [0. 0. 0. 0. 0. 0. 0. 1. 0.]\n",
      " [0. 0. 0. 0. 0. 0. 1. 0. 0.]\n",
      " [1. 0. 0. 0. 0. 0. 0. 0. 0.]\n",
      " [0. 0. 0. 1. 0. 0. 0. 0. 0.]], shape=(32, 9), dtype=float32) (32, 9)\n"
     ]
    }
   ],
   "source": [
    "for x,y in training_set:\n",
    "    print(x,x.shape)\n",
    "    print(y,y.shape)\n",
    "    break"
   ]
  },
  {
   "cell_type": "markdown",
   "id": "dbedc6be-df12-42c7-853a-24efbe7062a6",
   "metadata": {},
   "source": [
    "To avoid overshooting\n",
    "\n",
    "Choose small learning rate default 0,001 we are using 0.0001\n",
    "There may be chance of Underfitting, so increase number of neuron\n",
    "Add more Convolutional layer to extract more feature from images there may be possibility that model unable to capture relevant feature or model is confusing due to lack of feature so feed with more feature\n",
    "\n"
   ]
  },
  {
   "cell_type": "markdown",
   "id": "6c676ba9-5f14-4797-9af7-b98dcba2f049",
   "metadata": {},
   "source": [
    "Building Module"
   ]
  },
  {
   "cell_type": "code",
   "execution_count": 12,
   "id": "29762d30-0b68-4e15-aab3-74dbdedc4a60",
   "metadata": {},
   "outputs": [],
   "source": [
    "from tensorflow.keras.layers import Dense,Conv2D,MaxPool2D,Flatten,Dropout\n",
    "from tensorflow.keras.models import Sequential\n",
    "from tensorflow.keras import layers, models"
   ]
  },
  {
   "cell_type": "markdown",
   "id": "ec06ca0d-e78b-45c9-b5ea-8040f4e8b28d",
   "metadata": {},
   "source": [
    "Building Covolutional Layer"
   ]
  },
  {
   "cell_type": "code",
   "execution_count": null,
   "id": "cf46038e-31f8-4a7b-89a6-56fd3f0c8cde",
   "metadata": {},
   "outputs": [],
   "source": [
    "#model.compile(optimizer=tf.keras.optimizers.legacy.Adam(learning_rate=0.0001),loss='categorical_crossentropy',metrics=['accuracy'])"
   ]
  },
  {
   "cell_type": "code",
   "execution_count": 10,
   "id": "23fba0b4-4ee1-4bf1-b3c7-b27a910b2d1a",
   "metadata": {},
   "outputs": [],
   "source": [
    "# Function to build the model with hyperparameter tuning\n",
    "def build_model(hp):\n",
    "    model = models.Sequential()"
   ]
  },
  {
   "cell_type": "code",
   "execution_count": 39,
   "id": "ae4a542a-967e-472b-901e-2a7742d86136",
   "metadata": {},
   "outputs": [],
   "source": [
    "def build_model(hp):\n",
    "    model = models.Sequential()\n",
    "    \n",
    "    # Hyperparameter tuning for number of convolutional layers and filters\n",
    "    for i in range(hp.Int('conv_layers', 2, 4)):\n",
    "        model.add(layers.Conv2D(\n",
    "            filters=hp.Int(f'filters_{i}', min_value=32, max_value=128, step=32),\n",
    "            kernel_size=(3, 3),\n",
    "            activation='relu',\n",
    "            padding='same'\n",
    "        ))\n",
    "        model.add(layers.MaxPooling2D(pool_size=(2, 2)))\n",
    "    \n",
    "    # Hyperparameter tuning for dropout rate\n",
    "    model.add(layers.Dropout(rate=hp.Float('dropout', min_value=0.2, max_value=0.5, step=0.1)))\n",
    "    \n",
    "    model.add(layers.Flatten())\n",
    "    \n",
    "    # Hyperparameter tuning for dense layer units\n",
    "    model.add(layers.Dense(units=hp.Int('dense_units', min_value=64, max_value=256, step=64), activation='relu'))\n",
    "\n",
    "    #Output Layer\n",
    "    model.add(Dense(units=9,activation='softmax'))\n",
    "\n",
    "\n",
    "    # Hyperparameter tuning for optimizer\n",
    "    model.compile(\n",
    "        optimizer=hp.Choice('optimizer', values=['adam', 'rmsprop', 'sgd']),\n",
    "        loss='categorical_crossentropy',\n",
    "        metrics=['accuracy']\n",
    "    )\n",
    "    \n",
    "    return model\n"
   ]
  },
  {
   "cell_type": "code",
   "execution_count": null,
   "id": "585be3c9-7ae2-4eea-873a-79adfdd73986",
   "metadata": {},
   "outputs": [],
   "source": [
    "from tensorflow.keras.layers import Dense,Conv2D,MaxPool2D,Flatten,Dropout\n",
    "from tensorflow.keras.models import Sequential\n",
    "\n",
    "model = Sequential()\n",
    "\n",
    "model.add(Conv2D(filters=32,kernel_size=3,padding='same',activation='relu',input_shape=[128,128,3]))\n",
    "model.add(Conv2D(filters=32,kernel_size=3,activation='relu'))\n",
    "model.add(MaxPool2D(pool_size=2, strides=2))\n",
    "\n",
    "model.add(Conv2D(filters=64,kernel_size=3,padding='same',activation='relu'))\n",
    "model.add(Conv2D(filters=64,kernel_size=3,activation='relu'))\n",
    "model.add(MaxPool2D(pool_size=2, strides=2))\n",
    "\n",
    "model.add(Conv2D(filters=128,kernel_size=3,padding='same',activation='relu'))\n",
    "model.add(Conv2D(filters=128,kernel_size=3,activation='relu'))\n",
    "model.add(MaxPool2D(pool_size=2, strides=2))\n",
    "\n",
    "model.add(Conv2D(filters=256,kernel_size=3,padding='same',activation='relu'))\n",
    "model.add(Conv2D(filters=256,kernel_size=3,activation='relu'))\n",
    "model.add(MaxPool2D(pool_size=2, strides=2))\n",
    "\n",
    "model.add(Conv2D(filters=512,kernel_size=3,padding='same',activation='relu'))\n",
    "model.add(Conv2D(filters=512,kernel_size=3,activation='relu'))\n",
    "model.add(MaxPool2D(pool_size=2, strides=2))\n",
    "\n",
    "model.add(Dropout(0.25)) #To Avoid Overfitting\n",
    "\n",
    "model.add(Flatten())\n",
    "\n",
    "model.add(Dense(units=1500,activation='relu'))\n",
    "\n",
    "model.add(Dropout(0.4))\n",
    "\n",
    "#Output Layer\n",
    "model.add(Dense(units=38,activation='softmax'))\n",
    "\n",
    "model.compile(optimizer=tf.keras.optimizers.Adam(learning_rate=0.0001),\n",
    "              loss='categorical_crossentropy',\n",
    "              metrics=['accuracy'])\n"
   ]
  },
  {
   "cell_type": "code",
   "execution_count": 43,
   "id": "7f3054bb-dc9a-4ba4-84f2-a0414267821e",
   "metadata": {},
   "outputs": [
    {
     "name": "stdout",
     "output_type": "stream",
     "text": [
      "Reloading Tuner from my_dir/plant_disease_detection/tuner0.json\n"
     ]
    }
   ],
   "source": [
    "# Initialize the KerasTuner Hyperband tuner\n",
    "tuner = kt.Hyperband(\n",
    "    build_model,\n",
    "    objective='val_accuracy',\n",
    "    max_epochs=10,\n",
    "    factor=3,\n",
    "    directory='my_dir',\n",
    "    project_name='plant_disease_detection'\n",
    ")\n",
    "\n",
    "# Early stopping callback to prevent overfitting\n",
    "stop_early = tf.keras.callbacks.EarlyStopping(monitor='val_loss', patience=5)\n",
    "\n"
   ]
  },
  {
   "cell_type": "code",
   "execution_count": 45,
   "id": "27ce530f-45a7-4a8f-968d-e8c948d99f68",
   "metadata": {},
   "outputs": [
    {
     "name": "stdout",
     "output_type": "stream",
     "text": [
      "Reloading Tuner from my_dir/plant_disease_detection/tuner0.json\n"
     ]
    }
   ],
   "source": [
    "tuner = kt.RandomSearch(\n",
    "    build_model,\n",
    "    objective='val_accuracy',\n",
    "    max_trials=1,  # Set the number of trials directly\n",
    "    directory='my_dir',\n",
    "    project_name='plant_disease_detection'\n",
    ")"
   ]
  },
  {
   "cell_type": "code",
   "execution_count": 46,
   "id": "1b83a95b-3a0a-472d-9ea6-d605f4f60b82",
   "metadata": {},
   "outputs": [
    {
     "name": "stdout",
     "output_type": "stream",
     "text": [
      "Trial 12 Complete [00h 04m 22s]\n",
      "val_accuracy: 0.11664261668920517\n",
      "\n",
      "Best val_accuracy So Far: 0.9379509091377258\n",
      "Total elapsed time: 01h 10m 11s\n"
     ]
    }
   ],
   "source": [
    "# Run the hyperparameter search\n",
    "tuner.search(training_set, validation_data=validation_set, epochs=1, callbacks=[stop_early])"
   ]
  },
  {
   "cell_type": "code",
   "execution_count": 47,
   "id": "56c87f01-1d0f-49e5-b0ba-7bd3f7c29358",
   "metadata": {},
   "outputs": [],
   "source": [
    "# Get the optimal hyperparameters and build the best model\n",
    "best_hps = tuner.get_best_hyperparameters(num_trials=1)[0]\n",
    "model = tuner.hypermodel.build(best_hps)"
   ]
  },
  {
   "cell_type": "code",
   "execution_count": 75,
   "id": "099043c1-a1a5-4307-8e16-e8292692eb3a",
   "metadata": {},
   "outputs": [
    {
     "name": "stdout",
     "output_type": "stream",
     "text": [
      "The best hyperparameters are:\n",
      "conv_layers: 4\n",
      "filters_0: 128\n",
      "filters_1: 96\n",
      "dropout: 0.30000000000000004\n",
      "dense_units: 256\n",
      "optimizer: adam\n",
      "filters_2: 128\n",
      "filters_3: 96\n",
      "tuner/epochs: 2\n",
      "tuner/initial_epoch: 0\n",
      "tuner/bracket: 2\n",
      "tuner/round: 0\n"
     ]
    }
   ],
   "source": [
    "# Display the best hyperparameters\n",
    "print(\"The best hyperparameters are:\")\n",
    "for param in best_hps.values:\n",
    "    print(f\"{param}: {best_hps.get(param)}\")"
   ]
  },
  {
   "cell_type": "code",
   "execution_count": 49,
   "id": "49815dc0-62f1-4fdb-a93a-8b4b81659538",
   "metadata": {},
   "outputs": [
    {
     "name": "stdout",
     "output_type": "stream",
     "text": [
      "Epoch 1/10\n",
      "\u001b[1m520/520\u001b[0m \u001b[32m━━━━━━━━━━━━━━━━━━━━\u001b[0m\u001b[37m\u001b[0m \u001b[1m348s\u001b[0m 668ms/step - accuracy: 0.3349 - loss: 3.4103 - val_accuracy: 0.7804 - val_loss: 0.6781\n",
      "Epoch 2/10\n",
      "\u001b[1m520/520\u001b[0m \u001b[32m━━━━━━━━━━━━━━━━━━━━\u001b[0m\u001b[37m\u001b[0m \u001b[1m331s\u001b[0m 637ms/step - accuracy: 0.7498 - loss: 0.7169 - val_accuracy: 0.8838 - val_loss: 0.3528\n",
      "Epoch 3/10\n",
      "\u001b[1m520/520\u001b[0m \u001b[32m━━━━━━━━━━━━━━━━━━━━\u001b[0m\u001b[37m\u001b[0m \u001b[1m330s\u001b[0m 635ms/step - accuracy: 0.8680 - loss: 0.3974 - val_accuracy: 0.9408 - val_loss: 0.1848\n",
      "Epoch 4/10\n",
      "\u001b[1m520/520\u001b[0m \u001b[32m━━━━━━━━━━━━━━━━━━━━\u001b[0m\u001b[37m\u001b[0m \u001b[1m331s\u001b[0m 636ms/step - accuracy: 0.9117 - loss: 0.2603 - val_accuracy: 0.9557 - val_loss: 0.1492\n",
      "Epoch 5/10\n",
      "\u001b[1m520/520\u001b[0m \u001b[32m━━━━━━━━━━━━━━━━━━━━\u001b[0m\u001b[37m\u001b[0m \u001b[1m333s\u001b[0m 640ms/step - accuracy: 0.9380 - loss: 0.1859 - val_accuracy: 0.9603 - val_loss: 0.1195\n",
      "Epoch 6/10\n",
      "\u001b[1m520/520\u001b[0m \u001b[32m━━━━━━━━━━━━━━━━━━━━\u001b[0m\u001b[37m\u001b[0m \u001b[1m336s\u001b[0m 646ms/step - accuracy: 0.9508 - loss: 0.1407 - val_accuracy: 0.9613 - val_loss: 0.1303\n",
      "Epoch 7/10\n",
      "\u001b[1m520/520\u001b[0m \u001b[32m━━━━━━━━━━━━━━━━━━━━\u001b[0m\u001b[37m\u001b[0m \u001b[1m331s\u001b[0m 636ms/step - accuracy: 0.9597 - loss: 0.1206 - val_accuracy: 0.9519 - val_loss: 0.1454\n",
      "Epoch 8/10\n",
      "\u001b[1m520/520\u001b[0m \u001b[32m━━━━━━━━━━━━━━━━━━━━\u001b[0m\u001b[37m\u001b[0m \u001b[1m339s\u001b[0m 651ms/step - accuracy: 0.9610 - loss: 0.1264 - val_accuracy: 0.9553 - val_loss: 0.1441\n",
      "Epoch 9/10\n",
      "\u001b[1m520/520\u001b[0m \u001b[32m━━━━━━━━━━━━━━━━━━━━\u001b[0m\u001b[37m\u001b[0m \u001b[1m332s\u001b[0m 637ms/step - accuracy: 0.9652 - loss: 0.1037 - val_accuracy: 0.9521 - val_loss: 0.1701\n",
      "Epoch 10/10\n",
      "\u001b[1m520/520\u001b[0m \u001b[32m━━━━━━━━━━━━━━━━━━━━\u001b[0m\u001b[37m\u001b[0m \u001b[1m331s\u001b[0m 636ms/step - accuracy: 0.9660 - loss: 0.1052 - val_accuracy: 0.9731 - val_loss: 0.0926\n"
     ]
    }
   ],
   "source": [
    "# Train the best model\n",
    "history = model.fit(training_set, validation_data=validation_set, epochs=10, callbacks=[stop_early])\n",
    "\n"
   ]
  },
  {
   "cell_type": "code",
   "execution_count": 50,
   "id": "5833e5ce-a6b6-418b-8bf1-ba3735eb9377",
   "metadata": {},
   "outputs": [
    {
     "name": "stdout",
     "output_type": "stream",
     "text": [
      "\u001b[1m520/520\u001b[0m \u001b[32m━━━━━━━━━━━━━━━━━━━━\u001b[0m\u001b[37m\u001b[0m \u001b[1m88s\u001b[0m 170ms/step - accuracy: 0.9885 - loss: 0.0308\n"
     ]
    }
   ],
   "source": [
    "#Model Evaluation on Training set\n",
    "train_loss,train_acc = model.evaluate(training_set)"
   ]
  },
  {
   "cell_type": "code",
   "execution_count": 74,
   "id": "726fcffa-75cd-418d-b612-2686f4e56a56",
   "metadata": {},
   "outputs": [
    {
     "name": "stdout",
     "output_type": "stream",
     "text": [
      "0.0303391944617033 0.9894192814826965\n"
     ]
    }
   ],
   "source": [
    "print(train_loss,train_acc)"
   ]
  },
  {
   "cell_type": "code",
   "execution_count": 52,
   "id": "a605ac70-5d07-4669-8c82-01b75eea662c",
   "metadata": {},
   "outputs": [
    {
     "name": "stdout",
     "output_type": "stream",
     "text": [
      "\u001b[1m130/130\u001b[0m \u001b[32m━━━━━━━━━━━━━━━━━━━━\u001b[0m\u001b[37m\u001b[0m \u001b[1m23s\u001b[0m 176ms/step - accuracy: 0.9750 - loss: 0.0800\n"
     ]
    }
   ],
   "source": [
    "#Model on Validation set\n",
    "val_loss,val_acc = model.evaluate(validation_set)"
   ]
  },
  {
   "cell_type": "code",
   "execution_count": 53,
   "id": "160dec14-6767-4d16-a150-1075daf0c0ca",
   "metadata": {},
   "outputs": [
    {
     "name": "stdout",
     "output_type": "stream",
     "text": [
      "0.09261811524629593 0.9730639457702637\n"
     ]
    }
   ],
   "source": [
    "print(val_loss,val_acc)"
   ]
  },
  {
   "cell_type": "markdown",
   "id": "05ad5c1c-8dc7-487f-ac28-86966d80038b",
   "metadata": {},
   "source": [
    "Saving Model"
   ]
  },
  {
   "cell_type": "code",
   "execution_count": 54,
   "id": "7fe01818-dfa3-4c0f-ac89-cecdd71bf072",
   "metadata": {},
   "outputs": [
    {
     "name": "stderr",
     "output_type": "stream",
     "text": [
      "WARNING:absl:You are saving your model as an HDF5 file via `model.save()` or `keras.saving.save_model(model)`. This file format is considered legacy. We recommend using instead the native Keras format, e.g. `model.save('my_model.keras')` or `keras.saving.save_model(model, 'my_model.keras')`. \n"
     ]
    }
   ],
   "source": [
    "model.save(\"best_model.h5\")"
   ]
  },
  {
   "cell_type": "code",
   "execution_count": 55,
   "id": "4d4f20e3-b925-4d7d-b053-45ac424003d5",
   "metadata": {},
   "outputs": [],
   "source": [
    "model.save(\"best_model.keras\")"
   ]
  },
  {
   "cell_type": "code",
   "execution_count": 57,
   "id": "e2708f47-2aa3-4d3d-894b-9407efa9e5b8",
   "metadata": {},
   "outputs": [
    {
     "data": {
      "text/plain": [
       "{'accuracy': [0.4873151481151581,\n",
       "  0.7888661623001099,\n",
       "  0.8821690678596497,\n",
       "  0.9114464521408081,\n",
       "  0.9383190870285034,\n",
       "  0.9498016238212585,\n",
       "  0.9595407247543335,\n",
       "  0.9601418972015381,\n",
       "  0.9656125903129578,\n",
       "  0.970121443271637],\n",
       " 'loss': [1.7188811302185059,\n",
       "  0.6119502782821655,\n",
       "  0.35059791803359985,\n",
       "  0.26307958364486694,\n",
       "  0.18645228445529938,\n",
       "  0.14699915051460266,\n",
       "  0.12194309383630753,\n",
       "  0.12248601019382477,\n",
       "  0.10163483768701553,\n",
       "  0.09515533596277237],\n",
       " 'val_accuracy': [0.7804232835769653,\n",
       "  0.8838383555412292,\n",
       "  0.9408369660377502,\n",
       "  0.9557479619979858,\n",
       "  0.9603174328804016,\n",
       "  0.9612794518470764,\n",
       "  0.9518999457359314,\n",
       "  0.9552669525146484,\n",
       "  0.9521404504776001,\n",
       "  0.9730639457702637],\n",
       " 'val_loss': [0.6781010031700134,\n",
       "  0.3528392016887665,\n",
       "  0.18475836515426636,\n",
       "  0.14921721816062927,\n",
       "  0.11951643228530884,\n",
       "  0.13034972548484802,\n",
       "  0.14542634785175323,\n",
       "  0.14411687850952148,\n",
       "  0.1701078563928604,\n",
       "  0.09261810779571533]}"
      ]
     },
     "execution_count": 57,
     "metadata": {},
     "output_type": "execute_result"
    }
   ],
   "source": [
    "history.history"
   ]
  },
  {
   "cell_type": "code",
   "execution_count": 59,
   "id": "0a6f87fb-86e4-4562-aaf8-e2fd7a7fbc9e",
   "metadata": {},
   "outputs": [],
   "source": [
    "#Recording History in JSON\n",
    "import json\n",
    "with open(\"training_hist1.json\",\"w\") as f:\n",
    "    json.dump(history.history,f)"
   ]
  },
  {
   "cell_type": "markdown",
   "id": "ff4752e4-8558-444e-9df9-4a4bae315409",
   "metadata": {},
   "source": [
    "Accuracy Visualization"
   ]
  },
  {
   "cell_type": "code",
   "execution_count": 61,
   "id": "8c434b88-e7af-4ea2-b2f8-aae3dbb36b87",
   "metadata": {},
   "outputs": [
    {
     "data": {
      "image/png": "[encoded data removed]",
      "text/plain": [
       "<Figure size 640x480 with 1 Axes>"
      ]
     },
     "metadata": {},
     "output_type": "display_data"
    }
   ],
   "source": [
    "import matplotlib.pyplot as plt\n",
    "\n",
    "# Get the number of epochs from the history\n",
    "epochs = range(1, len(history.history['accuracy']) + 1)\n",
    "\n",
    "# Plot training accuracy\n",
    "plt.plot(epochs, history.history['accuracy'], color='red', label='Training Accuracy')\n",
    "\n",
    "# Plot validation accuracy\n",
    "plt.plot(epochs, history.history['val_accuracy'], color='blue', label='Validation Accuracy')\n",
    "\n",
    "plt.xlabel(\"Number of Epochs\")\n",
    "plt.ylabel(\"Accuracy\")\n",
    "plt.title(\"Training and Validation Accuracy\")\n",
    "plt.legend()\n",
    "plt.show()\n"
   ]
  },
  {
   "cell_type": "code",
   "execution_count": 62,
   "id": "01c01497-21cc-4a8c-931c-3b433d63c77a",
   "metadata": {},
   "outputs": [
    {
     "data": {
      "text/plain": [
       "['Potato___Early_blight',\n",
       " 'Potato___Late_blight',\n",
       " 'Potato___healthy',\n",
       " 'Strawberry___Leaf_scorch',\n",
       " 'Strawberry___healthy',\n",
       " 'Tomato___Bacterial_spot',\n",
       " 'Tomato___Septoria_leaf_spot',\n",
       " 'Tomato___Tomato_Yellow_Leaf_Curl_Virus',\n",
       " 'Tomato___healthy']"
      ]
     },
     "execution_count": 62,
     "metadata": {},
     "output_type": "execute_result"
    }
   ],
   "source": [
    "class_name = validation_set.class_names\n",
    "class_name"
   ]
  },
  {
   "cell_type": "code",
   "execution_count": 64,
   "id": "d9290d47-f112-47da-9d00-4ed7b6fc982c",
   "metadata": {},
   "outputs": [
    {
     "name": "stdout",
     "output_type": "stream",
     "text": [
      "Found 4158 files belonging to 9 classes.\n"
     ]
    }
   ],
   "source": [
    "test_set = tf.keras.utils.image_dataset_from_directory(\n",
    "    'svalid',\n",
    "    labels=\"inferred\",\n",
    "    label_mode=\"categorical\",\n",
    "    class_names=None,\n",
    "    color_mode=\"rgb\",\n",
    "    batch_size=32,\n",
    "    image_size=(128, 128),\n",
    "    shuffle=False,\n",
    "    seed=None,\n",
    "    validation_split=None,\n",
    "    subset=None,\n",
    "    interpolation=\"bilinear\",\n",
    "    follow_links=False,\n",
    "    crop_to_aspect_ratio=False,\n",
    "    pad_to_aspect_ratio=False,\n",
    "    verbose=True,\n",
    ")"
   ]
  },
  {
   "cell_type": "code",
   "execution_count": 65,
   "id": "aeed25d7-1ba1-4a5a-85ac-ad35644bcc71",
   "metadata": {},
   "outputs": [
    {
     "name": "stdout",
     "output_type": "stream",
     "text": [
      "\u001b[1m130/130\u001b[0m \u001b[32m━━━━━━━━━━━━━━━━━━━━\u001b[0m\u001b[37m\u001b[0m \u001b[1m23s\u001b[0m 173ms/step\n"
     ]
    },
    {
     "data": {
      "text/plain": [
       "(array([[1.0000000e+00, 2.0957666e-08, 5.3887101e-17, ..., 2.9016793e-09,\n",
       "         5.1315056e-22, 3.3313708e-16],\n",
       "        [1.9479380e-06, 6.5912883e-07, 3.3556141e-03, ..., 1.0024875e-03,\n",
       "         1.3604666e-11, 9.9559677e-01],\n",
       "        [1.0000000e+00, 1.1649571e-13, 1.6847480e-26, ..., 4.1608041e-12,\n",
       "         6.7232899e-32, 2.0976162e-25],\n",
       "        ...,\n",
       "        [6.6363123e-11, 3.3897084e-08, 2.1106518e-06, ..., 1.7909546e-05,\n",
       "         3.3088593e-10, 9.9998003e-01],\n",
       "        [4.0504249e-11, 4.2344541e-09, 1.1533345e-07, ..., 2.8204686e-06,\n",
       "         3.8540346e-10, 9.9999690e-01],\n",
       "        [6.6932072e-16, 2.1453681e-14, 2.2966295e-12, ..., 2.6089460e-06,\n",
       "         8.4488757e-17, 9.9999738e-01]], dtype=float32),\n",
       " (4158, 9))"
      ]
     },
     "execution_count": 65,
     "metadata": {},
     "output_type": "execute_result"
    }
   ],
   "source": [
    "y_pred = model.predict(test_set)\n",
    "y_pred,y_pred.shape"
   ]
  },
  {
   "cell_type": "code",
   "execution_count": 66,
   "id": "232a70ec-0ef6-4156-9f0e-5b508e8d714b",
   "metadata": {},
   "outputs": [],
   "source": [
    "predicted_categories = tf.argmax(y_pred,axis=1)"
   ]
  },
  {
   "cell_type": "code",
   "execution_count": 67,
   "id": "f9c1cc53-6b93-4e73-b241-69f5f47c65b4",
   "metadata": {},
   "outputs": [
    {
     "data": {
      "text/plain": [
       "<tf.Tensor: shape=(4158,), dtype=int64, numpy=array([0, 8, 0, ..., 8, 8, 8])>"
      ]
     },
     "execution_count": 67,
     "metadata": {},
     "output_type": "execute_result"
    }
   ],
   "source": [
    "predicted_categories"
   ]
  },
  {
   "cell_type": "code",
   "execution_count": 68,
   "id": "a85e8e78-5778-4b27-b259-fc26d7bc388a",
   "metadata": {},
   "outputs": [
    {
     "name": "stderr",
     "output_type": "stream",
     "text": [
      "2024-09-03 00:48:41.140529: W tensorflow/core/framework/local_rendezvous.cc:404] Local rendezvous is aborting with status: OUT_OF_RANGE: End of sequence\n"
     ]
    },
    {
     "data": {
      "text/plain": [
       "<tf.Tensor: shape=(4158, 9), dtype=float32, numpy=\n",
       "array([[1., 0., 0., ..., 0., 0., 0.],\n",
       "       [1., 0., 0., ..., 0., 0., 0.],\n",
       "       [1., 0., 0., ..., 0., 0., 0.],\n",
       "       ...,\n",
       "       [0., 0., 0., ..., 0., 0., 1.],\n",
       "       [0., 0., 0., ..., 0., 0., 1.],\n",
       "       [0., 0., 0., ..., 0., 0., 1.]], dtype=float32)>"
      ]
     },
     "execution_count": 68,
     "metadata": {},
     "output_type": "execute_result"
    }
   ],
   "source": [
    "true_categories = tf.concat([y for x,y in test_set], axis = 0)\n",
    "true_categories"
   ]
  },
  {
   "cell_type": "code",
   "execution_count": 69,
   "id": "0185f002-57c3-46d0-a505-5e8805eee9fe",
   "metadata": {},
   "outputs": [
    {
     "data": {
      "text/plain": [
       "<tf.Tensor: shape=(4158,), dtype=int64, numpy=array([0, 0, 0, ..., 8, 8, 8])>"
      ]
     },
     "execution_count": 69,
     "metadata": {},
     "output_type": "execute_result"
    }
   ],
   "source": [
    "Y_true = tf.argmax(true_categories,axis=1)\n",
    "Y_true"
   ]
  },
  {
   "cell_type": "code",
   "execution_count": 70,
   "id": "9b4a8c0f-d416-4b7a-9d73-42dcece35cd7",
   "metadata": {},
   "outputs": [],
   "source": [
    "from sklearn.metrics import classification_report, confusion_matrix"
   ]
  },
  {
   "cell_type": "code",
   "execution_count": 71,
   "id": "433dde1a-97f7-4e75-b834-2fda06fa001d",
   "metadata": {},
   "outputs": [
    {
     "name": "stdout",
     "output_type": "stream",
     "text": [
      "                                        precision    recall  f1-score   support\n",
      "\n",
      "                 Potato___Early_blight       0.96      0.99      0.98       485\n",
      "                  Potato___Late_blight       0.98      0.94      0.96       485\n",
      "                      Potato___healthy       0.97      0.98      0.98       456\n",
      "              Strawberry___Leaf_scorch       0.97      1.00      0.98       444\n",
      "                  Strawberry___healthy       0.97      1.00      0.98       456\n",
      "               Tomato___Bacterial_spot       0.97      0.95      0.96       425\n",
      "           Tomato___Septoria_leaf_spot       0.96      0.92      0.94       436\n",
      "Tomato___Tomato_Yellow_Leaf_Curl_Virus       0.98      0.99      0.99       490\n",
      "                      Tomato___healthy       0.98      0.98      0.98       481\n",
      "\n",
      "                              accuracy                           0.97      4158\n",
      "                             macro avg       0.97      0.97      0.97      4158\n",
      "                          weighted avg       0.97      0.97      0.97      4158\n",
      "\n"
     ]
    }
   ],
   "source": [
    " print(classification_report(Y_true,predicted_categories,target_names=class_name))"
   ]
  },
  {
   "cell_type": "markdown",
   "id": "1a663e32-c6f0-4f7c-a340-4787cd1b20c1",
   "metadata": {},
   "source": [
    "Confusion Matix Visualization"
   ]
  },
  {
   "cell_type": "code",
   "execution_count": 72,
   "id": "03a51530-a6c6-480a-90ff-45a30ff810e5",
   "metadata": {},
   "outputs": [
    {
     "data": {
      "text/plain": [
       "(9, 9)"
      ]
     },
     "execution_count": 72,
     "metadata": {},
     "output_type": "execute_result"
    }
   ],
   "source": [
    "cm = confusion_matrix(Y_true,predicted_categories)\n",
    "cm.shape"
   ]
  },
  {
   "cell_type": "code",
   "execution_count": 73,
   "id": "b6048cca-f243-4bd2-ab4a-dde0197375cf",
   "metadata": {},
   "outputs": [
    {
     "data": {
      "image/png": "[encoded data removed]",
      "text/plain": [
       "<Figure size 4000x4000 with 2 Axes>"
      ]
     },
     "metadata": {},
     "output_type": "display_data"
    }
   ],
   "source": [
    "plt.figure(figsize=(40,40))\n",
    "sns.heatmap(cm,annot=True,annot_kws={'size':10})\n",
    "plt.xlabel(\"Predicted Class\",fontsize=20)\n",
    "plt.ylabel(\"Actual Class\",fontsize=20)\n",
    "plt.title (\"Plant Disease Prediction Confusion Matrix\",fontsize=25)\n",
    "plt.show()"
   ]
  },
  {
   "cell_type": "code",
   "execution_count": null,
   "id": "11daf1a5-f5e3-491c-a8b8-a4104ec9ef74",
   "metadata": {},
   "outputs": [],
   "source": []
  }
 ],
 "metadata": {
  "kernelspec": {
   "display_name": "Python 3.10 (TensorFlow)",
   "language": "python",
   "name": "tf_env"
  },
  "language_info": {
   "codemirror_mode": {
    "name": "ipython",
    "version": 3
   },
   "file_extension": ".py",
   "mimetype": "text/x-python",
   "name": "python",
   "nbconvert_exporter": "python",
   "pygments_lexer": "ipython3",
   "version": "3.10.14"
  }
 },
 "nbformat": 4,
 "nbformat_minor": 5
}
